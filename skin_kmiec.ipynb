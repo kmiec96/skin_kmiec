{
 "cells": [
  {
   "cell_type": "markdown",
   "metadata": {},
   "source": [
    "# Skin segmentation "
   ]
  },
  {
   "cell_type": "markdown",
   "metadata": {},
   "source": [
    "In this assignement you will train classifier to assign colors to skin or no skin classes. The data is taken from [Skin Segmentation Data Set](http://archive.ics.uci.edu/ml/datasets/Skin+Segmentation#) in the UCI Machine Learning repository."
   ]
  },
  {
   "cell_type": "markdown",
   "metadata": {},
   "source": [
    "The  data is in a plain text format and contains four columns. First three contain RGB color data  represented as integers in the range 0-255, and the last column is an integer label  with 1 representing skin and 2 representing no skin. This file we can load directly into a numpy array:"
   ]
  },
  {
   "cell_type": "code",
   "execution_count": 41,
   "metadata": {},
   "outputs": [],
   "source": [
    "data = np.loadtxt('data/Skin_NonSkin.txt')"
   ]
  },
  {
   "cell_type": "code",
   "execution_count": 42,
   "metadata": {},
   "outputs": [],
   "source": [
    "rgb  = data[:,:3]\n",
    "lbl = data[:,3].astype('int32') # some function expect labels to be integers"
   ]
  },
  {
   "cell_type": "markdown",
   "metadata": {},
   "source": [
    "We see that the classes are not balanced:"
   ]
  },
  {
   "cell_type": "code",
   "execution_count": 43,
   "metadata": {},
   "outputs": [
    {
     "data": {
      "text/plain": [
       "array([     0,  50859, 194198], dtype=int64)"
      ]
     },
     "execution_count": 43,
     "metadata": {},
     "output_type": "execute_result"
    }
   ],
   "source": [
    "np.bincount(lbl)"
   ]
  },
  {
   "cell_type": "markdown",
   "metadata": {},
   "source": [
    "## Problem 1 "
   ]
  },
  {
   "cell_type": "markdown",
   "metadata": {},
   "source": [
    "Compare the performance of the QuadraticDiscriminantAnalysis, LinearDiscriminativeAnalysis and NaiveBayes classifiers on this set. Use the `sklearn` library when needed. Compare the confusion matrices (tpr, fpr, tnr, fnr), precision and f1_ score and auc_score, as well ROC curves. Prepare a summary table with all the numerical scores one row per classifier on one column per metric (use pandas.DataFame). Plot all  ROC curves on the same plot and label them accordingly. Assume that skin is positive and non-skin negative. "
   ]
  },
  {
   "cell_type": "markdown",
   "metadata": {},
   "source": [
    "__Hint__ as you will be repeating this it's probably a good idea  to write a python function that does all the analysis. "
   ]
  },
  {
   "cell_type": "code",
   "execution_count": 44,
   "metadata": {},
   "outputs": [
    {
     "name": "stdout",
     "output_type": "stream",
     "text": [
      "DONE\n"
     ]
    }
   ],
   "source": [
    "import pandas as pd\n",
    "import numpy as np\n",
    "import matplotlib.pyplot as plt\n",
    "from sklearn.discriminant_analysis import QuadraticDiscriminantAnalysis\n",
    "from sklearn.naive_bayes import GaussianNB\n",
    "from sklearn.discriminant_analysis import LinearDiscriminantAnalysis\n",
    "from sklearn.model_selection import train_test_split\n",
    "from sklearn.metrics import roc_curve, roc_auc_score, confusion_matrix, plot_confusion_matrix\n",
    "from sklearn.metrics import f1_score, precision_score, recall_score\n",
    "from IPython.display import display\n",
    "\n",
    "def analize(cls, train_X, train_Y, test_X, test_Y):\n",
    "\n",
    "    frames = [] \n",
    "    matrix = []\n",
    "    fprss = []\n",
    "    tprss = []\n",
    "    thdss = []\n",
    "   \n",
    "    for c, name in cls:\n",
    "        c.fit(train_X,train_Y)\n",
    "                \n",
    "        test_predicted = c.predict(test_X)        \n",
    "        test_predicted_proba = c.predict_proba(test_X)[:,1]\n",
    "\n",
    "        precision = precision_score(test_Y, test_predicted, pos_label=1, average='micro')\n",
    "        f1 = f1_score(test_Y, test_predicted, pos_label=1, average='micro')\n",
    "\n",
    "        fprs, tprs, thds = roc_curve(test_Y, test_predicted_proba, pos_label=1)\n",
    "        auc = roc_auc_score(test_Y, test_predicted_proba)\n",
    "\n",
    "        tnr, fpr, fnr, tpr = confusion_matrix(test_Y==1, test_predicted_proba>0.5, normalize='true').ravel()\n",
    "        \n",
    "        disp = pd.DataFrame({\"real label 1 (positive)\":  [tpr, fnr], \"real label 2 (negative)\":\\\n",
    "                             [fpr, tnr]}, index=[\"predicted label 1 (positive)\",\"predicted label 2 (negative)\"])\n",
    "        \n",
    "        matrix.append(disp)\n",
    "        dataframe=pd.DataFrame({'tnr':[tnr],\n",
    "                              'fnr':[fnr],\n",
    "                              'fpr':[fpr],\n",
    "                              'tpr':[tpr],\n",
    "                              'precision' : [precision],\n",
    "                              'f1' :[f1],\n",
    "                              'auc' :[auc]\n",
    "                               }, index=[name])\n",
    "        \n",
    "        fprss.append(fprs)\n",
    "        tprss.append(tprs)\n",
    "        thdss.append(thds)\n",
    "\n",
    "        frames.append(dataframe)\n",
    "    \n",
    "    result = pd.concat(frames)\n",
    "    \n",
    "    return  result, matrix, fprss, tprss, thdss\n",
    "\n",
    "\n",
    "print(\"DONE\")"
   ]
  },
  {
   "cell_type": "code",
   "execution_count": 45,
   "metadata": {},
   "outputs": [
    {
     "data": {
      "text/html": [
       "<div>\n",
       "<style scoped>\n",
       "    .dataframe tbody tr th:only-of-type {\n",
       "        vertical-align: middle;\n",
       "    }\n",
       "\n",
       "    .dataframe tbody tr th {\n",
       "        vertical-align: top;\n",
       "    }\n",
       "\n",
       "    .dataframe thead th {\n",
       "        text-align: right;\n",
       "    }\n",
       "</style>\n",
       "<table border=\"1\" class=\"dataframe\">\n",
       "  <thead>\n",
       "    <tr style=\"text-align: right;\">\n",
       "      <th></th>\n",
       "      <th>tnr</th>\n",
       "      <th>fnr</th>\n",
       "      <th>fpr</th>\n",
       "      <th>tpr</th>\n",
       "      <th>precision</th>\n",
       "      <th>f1</th>\n",
       "      <th>auc</th>\n",
       "    </tr>\n",
       "  </thead>\n",
       "  <tbody>\n",
       "    <tr>\n",
       "      <th>QDA</th>\n",
       "      <td>0.998808</td>\n",
       "      <td>0.075180</td>\n",
       "      <td>0.001192</td>\n",
       "      <td>0.924820</td>\n",
       "      <td>0.983563</td>\n",
       "      <td>0.983563</td>\n",
       "      <td>0.999695</td>\n",
       "    </tr>\n",
       "    <tr>\n",
       "      <th>LDA</th>\n",
       "      <td>0.937461</td>\n",
       "      <td>0.092213</td>\n",
       "      <td>0.062539</td>\n",
       "      <td>0.907787</td>\n",
       "      <td>0.931347</td>\n",
       "      <td>0.931347</td>\n",
       "      <td>0.945937</td>\n",
       "    </tr>\n",
       "    <tr>\n",
       "      <th>GaussianNB</th>\n",
       "      <td>0.971814</td>\n",
       "      <td>0.265309</td>\n",
       "      <td>0.028186</td>\n",
       "      <td>0.734691</td>\n",
       "      <td>0.922958</td>\n",
       "      <td>0.922958</td>\n",
       "      <td>0.942515</td>\n",
       "    </tr>\n",
       "  </tbody>\n",
       "</table>\n",
       "</div>"
      ],
      "text/plain": [
       "                 tnr       fnr       fpr       tpr  precision        f1  \\\n",
       "QDA         0.998808  0.075180  0.001192  0.924820   0.983563  0.983563   \n",
       "LDA         0.937461  0.092213  0.062539  0.907787   0.931347  0.931347   \n",
       "GaussianNB  0.971814  0.265309  0.028186  0.734691   0.922958  0.922958   \n",
       "\n",
       "                 auc  \n",
       "QDA         0.999695  \n",
       "LDA         0.945937  \n",
       "GaussianNB  0.942515  "
      ]
     },
     "metadata": {},
     "output_type": "display_data"
    },
    {
     "name": "stdout",
     "output_type": "stream",
     "text": [
      "---------------------------------------------------------------------------------\n",
      "---------------------------------------------------------------------------------\n",
      "confusion matrix for QDA [ 1->IS SKIN (true), 2->IS NOT SKIN (false)]\n"
     ]
    },
    {
     "data": {
      "text/html": [
       "<div>\n",
       "<style scoped>\n",
       "    .dataframe tbody tr th:only-of-type {\n",
       "        vertical-align: middle;\n",
       "    }\n",
       "\n",
       "    .dataframe tbody tr th {\n",
       "        vertical-align: top;\n",
       "    }\n",
       "\n",
       "    .dataframe thead th {\n",
       "        text-align: right;\n",
       "    }\n",
       "</style>\n",
       "<table border=\"1\" class=\"dataframe\">\n",
       "  <thead>\n",
       "    <tr style=\"text-align: right;\">\n",
       "      <th></th>\n",
       "      <th>real label 1 (positive)</th>\n",
       "      <th>real label 2 (negative)</th>\n",
       "    </tr>\n",
       "  </thead>\n",
       "  <tbody>\n",
       "    <tr>\n",
       "      <th>predicted label 1 (positive)</th>\n",
       "      <td>0.92482</td>\n",
       "      <td>0.001192</td>\n",
       "    </tr>\n",
       "    <tr>\n",
       "      <th>predicted label 2 (negative)</th>\n",
       "      <td>0.07518</td>\n",
       "      <td>0.998808</td>\n",
       "    </tr>\n",
       "  </tbody>\n",
       "</table>\n",
       "</div>"
      ],
      "text/plain": [
       "                              real label 1 (positive)  real label 2 (negative)\n",
       "predicted label 1 (positive)                  0.92482                 0.001192\n",
       "predicted label 2 (negative)                  0.07518                 0.998808"
      ]
     },
     "metadata": {},
     "output_type": "display_data"
    },
    {
     "name": "stdout",
     "output_type": "stream",
     "text": [
      "---------------------------------------------------------------------------------\n",
      "---------------------------------------------------------------------------------\n",
      "confusion matrix for LDA [ 1->IS SKIN (true), 2->IS NOT SKIN (false)]\n"
     ]
    },
    {
     "data": {
      "text/html": [
       "<div>\n",
       "<style scoped>\n",
       "    .dataframe tbody tr th:only-of-type {\n",
       "        vertical-align: middle;\n",
       "    }\n",
       "\n",
       "    .dataframe tbody tr th {\n",
       "        vertical-align: top;\n",
       "    }\n",
       "\n",
       "    .dataframe thead th {\n",
       "        text-align: right;\n",
       "    }\n",
       "</style>\n",
       "<table border=\"1\" class=\"dataframe\">\n",
       "  <thead>\n",
       "    <tr style=\"text-align: right;\">\n",
       "      <th></th>\n",
       "      <th>real label 1 (positive)</th>\n",
       "      <th>real label 2 (negative)</th>\n",
       "    </tr>\n",
       "  </thead>\n",
       "  <tbody>\n",
       "    <tr>\n",
       "      <th>predicted label 1 (positive)</th>\n",
       "      <td>0.907787</td>\n",
       "      <td>0.062539</td>\n",
       "    </tr>\n",
       "    <tr>\n",
       "      <th>predicted label 2 (negative)</th>\n",
       "      <td>0.092213</td>\n",
       "      <td>0.937461</td>\n",
       "    </tr>\n",
       "  </tbody>\n",
       "</table>\n",
       "</div>"
      ],
      "text/plain": [
       "                              real label 1 (positive)  real label 2 (negative)\n",
       "predicted label 1 (positive)                 0.907787                 0.062539\n",
       "predicted label 2 (negative)                 0.092213                 0.937461"
      ]
     },
     "metadata": {},
     "output_type": "display_data"
    },
    {
     "name": "stdout",
     "output_type": "stream",
     "text": [
      "---------------------------------------------------------------------------------\n",
      "---------------------------------------------------------------------------------\n",
      "confusion matrix for GaussianNB [ 1->IS SKIN (true), 2->IS NOT SKIN (false)]\n"
     ]
    },
    {
     "data": {
      "text/html": [
       "<div>\n",
       "<style scoped>\n",
       "    .dataframe tbody tr th:only-of-type {\n",
       "        vertical-align: middle;\n",
       "    }\n",
       "\n",
       "    .dataframe tbody tr th {\n",
       "        vertical-align: top;\n",
       "    }\n",
       "\n",
       "    .dataframe thead th {\n",
       "        text-align: right;\n",
       "    }\n",
       "</style>\n",
       "<table border=\"1\" class=\"dataframe\">\n",
       "  <thead>\n",
       "    <tr style=\"text-align: right;\">\n",
       "      <th></th>\n",
       "      <th>real label 1 (positive)</th>\n",
       "      <th>real label 2 (negative)</th>\n",
       "    </tr>\n",
       "  </thead>\n",
       "  <tbody>\n",
       "    <tr>\n",
       "      <th>predicted label 1 (positive)</th>\n",
       "      <td>0.734691</td>\n",
       "      <td>0.028186</td>\n",
       "    </tr>\n",
       "    <tr>\n",
       "      <th>predicted label 2 (negative)</th>\n",
       "      <td>0.265309</td>\n",
       "      <td>0.971814</td>\n",
       "    </tr>\n",
       "  </tbody>\n",
       "</table>\n",
       "</div>"
      ],
      "text/plain": [
       "                              real label 1 (positive)  real label 2 (negative)\n",
       "predicted label 1 (positive)                 0.734691                 0.028186\n",
       "predicted label 2 (negative)                 0.265309                 0.971814"
      ]
     },
     "metadata": {},
     "output_type": "display_data"
    },
    {
     "name": "stdout",
     "output_type": "stream",
     "text": [
      "\n",
      "----------------------------------------------------------------------------------\n"
     ]
    },
    {
     "data": {
      "image/png": "[encoded data removed]",
      "text/plain": [
       "<Figure size 432x288 with 1 Axes>"
      ]
     },
     "metadata": {
      "needs_background": "light"
     },
     "output_type": "display_data"
    }
   ],
   "source": [
    "data = np.loadtxt('data/Skin_NonSkin.txt')\n",
    "\n",
    "#Set aside 25% of data for testing!\n",
    "seed = 77678\n",
    "train_data, test_data = train_test_split(data, train_size=0.75, test_size=0.25, random_state = seed)\n",
    "\n",
    "#Find train and test datasets.\n",
    "train_X = train_data[:,:3]\n",
    "train_Y = train_data[:,3]\n",
    "\n",
    "test_X = test_data[:,:3]\n",
    "test_Y = test_data[:,3]\n",
    "\n",
    "test_Y = np.where(test_Y == 2, 0, test_Y).astype('int32')\n",
    "train_Y = np.where(train_Y == 2, 0, train_Y).astype('int32')\n",
    "\n",
    "\n",
    "cls=[[QuadraticDiscriminantAnalysis(),\"QDA\"], [LinearDiscriminantAnalysis(),\"LDA\"], [GaussianNB(),\"GaussianNB\"]]\n",
    "\n",
    "\n",
    "dataframe, matrix, fprss, tprss, thdss = analize(cls, train_X, train_Y, test_X, test_Y)\n",
    "display(dataframe)\n",
    "\n",
    "\n",
    "for i, cm in enumerate(matrix):    \n",
    "    print(\"---------------------------------------------------------------------------------\")\n",
    "    print(\"---------------------------------------------------------------------------------\")\n",
    "    print(\"confusion matrix for\", cls[i][1], \"[ 1->IS SKIN (true), 2->IS NOT SKIN (false)]\")\n",
    "    display(cm)\n",
    "\n",
    "print(\"\\n----------------------------------------------------------------------------------\")\n",
    "for i in range(len(fprss)):\n",
    "    plt.plot(fprss[i], tprss[i], label=cls[i][1]+ \" with auc:\" + np.round(dataframe['auc'][i], decimals=3).astype('str'))\n",
    "plt.plot([0,1],[0,1],'--',alpha=0.5, label='random guess', color='grey')\n",
    "plt.legend()    \n",
    "plt.ylabel('true_positive_rate')\n",
    "plt.xlabel('false_positive_rate')\n",
    "plt.show()"
   ]
  },
  {
   "cell_type": "markdown",
   "metadata": {},
   "source": [
    "## Problem 2"
   ]
  },
  {
   "cell_type": "markdown",
   "metadata": {},
   "source": [
    "Repeat same analysis but with RGB  data converted to Hue  Saturation Value (HSV) format. You can use the `colorsys` module for conversion "
   ]
  },
  {
   "cell_type": "code",
   "execution_count": 46,
   "metadata": {},
   "outputs": [
    {
     "name": "stdout",
     "output_type": "stream",
     "text": [
      "DONE\n"
     ]
    }
   ],
   "source": [
    "from colorsys import rgb_to_hsv\n",
    "\n",
    "def analize_hsv(cls, train_X, train_Y, test_X, test_Y):\n",
    "\n",
    "    frames = [] \n",
    "    matrix = []\n",
    "    fprss = []\n",
    "    tprss = []\n",
    "    thdss = []\n",
    "   \n",
    "    for c, name in cls:\n",
    "        c.fit(train_X,train_Y)\n",
    "\n",
    "        test_predicted = c.predict(test_X).astype(\"int32\")\n",
    "        test_predicted_proba = c.predict_proba(test_X)\n",
    "\n",
    "        precision = precision_score(test_Y, test_predicted, pos_label=1, average='micro')\n",
    "        f1 = f1_score(test_Y, test_predicted, pos_label=1, average='micro')\n",
    "\n",
    "        fprs, tprs, thds = roc_curve(test_Y, test_predicted_proba[:,1], pos_label=1)\n",
    "        auc = roc_auc_score(test_Y, test_predicted_proba[:,1])\n",
    "\n",
    "        tnr, fpr, fnr, tpr = confusion_matrix(test_Y==1, test_predicted_proba[:,1]>0.5, normalize='true').ravel()\n",
    "        \n",
    "        disp = pd.DataFrame({\"real label 1 (positive)\":  [tpr, fnr], \"real label 2 (negative)\": [fpr, tnr]}, index=[\"predicted label 1 (positive)\",\"predicted label 2 (negative)\"])\n",
    "        \n",
    "        matrix.append(disp)\n",
    "        dataframe=pd.DataFrame({'tnr':[tnr],\n",
    "                              'fnr':[fnr],\n",
    "                              'fpr':[fpr],\n",
    "                              'tpr':[tpr],\n",
    "                              'precision' : [precision],\n",
    "                              'f1' :[f1],\n",
    "                              'auc' :[auc]\n",
    "                               }, index=[name])\n",
    "        \n",
    "        fprss.append(fprs)\n",
    "        tprss.append(tprs)\n",
    "        thdss.append(thds)\n",
    "\n",
    "        frames.append(dataframe)\n",
    "    \n",
    "    result = pd.concat(frames)\n",
    "    \n",
    "    return  result, matrix, fprss, tprss, thdss\n",
    "\n",
    "\n",
    "print(\"DONE\")"
   ]
  },
  {
   "cell_type": "code",
   "execution_count": 47,
   "metadata": {},
   "outputs": [
    {
     "data": {
      "text/html": [
       "<div>\n",
       "<style scoped>\n",
       "    .dataframe tbody tr th:only-of-type {\n",
       "        vertical-align: middle;\n",
       "    }\n",
       "\n",
       "    .dataframe tbody tr th {\n",
       "        vertical-align: top;\n",
       "    }\n",
       "\n",
       "    .dataframe thead th {\n",
       "        text-align: right;\n",
       "    }\n",
       "</style>\n",
       "<table border=\"1\" class=\"dataframe\">\n",
       "  <thead>\n",
       "    <tr style=\"text-align: right;\">\n",
       "      <th></th>\n",
       "      <th>tnr</th>\n",
       "      <th>fnr</th>\n",
       "      <th>fpr</th>\n",
       "      <th>tpr</th>\n",
       "      <th>precision</th>\n",
       "      <th>f1</th>\n",
       "      <th>auc</th>\n",
       "    </tr>\n",
       "  </thead>\n",
       "  <tbody>\n",
       "    <tr>\n",
       "      <th>QDA</th>\n",
       "      <td>0.994922</td>\n",
       "      <td>0.012279</td>\n",
       "      <td>0.005078</td>\n",
       "      <td>0.987721</td>\n",
       "      <td>0.993438</td>\n",
       "      <td>0.993438</td>\n",
       "      <td>0.999454</td>\n",
       "    </tr>\n",
       "    <tr>\n",
       "      <th>LDA</th>\n",
       "      <td>0.890465</td>\n",
       "      <td>0.000000</td>\n",
       "      <td>0.109535</td>\n",
       "      <td>1.000000</td>\n",
       "      <td>0.913034</td>\n",
       "      <td>0.913034</td>\n",
       "      <td>0.926413</td>\n",
       "    </tr>\n",
       "    <tr>\n",
       "      <th>GaussianNB</th>\n",
       "      <td>0.984869</td>\n",
       "      <td>0.004040</td>\n",
       "      <td>0.015131</td>\n",
       "      <td>0.995960</td>\n",
       "      <td>0.987154</td>\n",
       "      <td>0.987154</td>\n",
       "      <td>0.997195</td>\n",
       "    </tr>\n",
       "  </tbody>\n",
       "</table>\n",
       "</div>"
      ],
      "text/plain": [
       "                 tnr       fnr       fpr       tpr  precision        f1  \\\n",
       "QDA         0.994922  0.012279  0.005078  0.987721   0.993438  0.993438   \n",
       "LDA         0.890465  0.000000  0.109535  1.000000   0.913034  0.913034   \n",
       "GaussianNB  0.984869  0.004040  0.015131  0.995960   0.987154  0.987154   \n",
       "\n",
       "                 auc  \n",
       "QDA         0.999454  \n",
       "LDA         0.926413  \n",
       "GaussianNB  0.997195  "
      ]
     },
     "metadata": {},
     "output_type": "display_data"
    },
    {
     "name": "stdout",
     "output_type": "stream",
     "text": [
      "---------------------------------------------------------------------------------\n",
      "---------------------------------------------------------------------------------\n",
      "confusion matrix for QDA [ 2->IS NOT SKIN (false), 1->IS SKIN (true) ]\n"
     ]
    },
    {
     "data": {
      "text/html": [
       "<div>\n",
       "<style scoped>\n",
       "    .dataframe tbody tr th:only-of-type {\n",
       "        vertical-align: middle;\n",
       "    }\n",
       "\n",
       "    .dataframe tbody tr th {\n",
       "        vertical-align: top;\n",
       "    }\n",
       "\n",
       "    .dataframe thead th {\n",
       "        text-align: right;\n",
       "    }\n",
       "</style>\n",
       "<table border=\"1\" class=\"dataframe\">\n",
       "  <thead>\n",
       "    <tr style=\"text-align: right;\">\n",
       "      <th></th>\n",
       "      <th>real label 1 (positive)</th>\n",
       "      <th>real label 2 (negative)</th>\n",
       "    </tr>\n",
       "  </thead>\n",
       "  <tbody>\n",
       "    <tr>\n",
       "      <th>predicted label 1 (positive)</th>\n",
       "      <td>0.987721</td>\n",
       "      <td>0.005078</td>\n",
       "    </tr>\n",
       "    <tr>\n",
       "      <th>predicted label 2 (negative)</th>\n",
       "      <td>0.012279</td>\n",
       "      <td>0.994922</td>\n",
       "    </tr>\n",
       "  </tbody>\n",
       "</table>\n",
       "</div>"
      ],
      "text/plain": [
       "                              real label 1 (positive)  real label 2 (negative)\n",
       "predicted label 1 (positive)                 0.987721                 0.005078\n",
       "predicted label 2 (negative)                 0.012279                 0.994922"
      ]
     },
     "metadata": {},
     "output_type": "display_data"
    },
    {
     "name": "stdout",
     "output_type": "stream",
     "text": [
      "---------------------------------------------------------------------------------\n",
      "---------------------------------------------------------------------------------\n",
      "confusion matrix for LDA [ 2->IS NOT SKIN (false), 1->IS SKIN (true) ]\n"
     ]
    },
    {
     "data": {
      "text/html": [
       "<div>\n",
       "<style scoped>\n",
       "    .dataframe tbody tr th:only-of-type {\n",
       "        vertical-align: middle;\n",
       "    }\n",
       "\n",
       "    .dataframe tbody tr th {\n",
       "        vertical-align: top;\n",
       "    }\n",
       "\n",
       "    .dataframe thead th {\n",
       "        text-align: right;\n",
       "    }\n",
       "</style>\n",
       "<table border=\"1\" class=\"dataframe\">\n",
       "  <thead>\n",
       "    <tr style=\"text-align: right;\">\n",
       "      <th></th>\n",
       "      <th>real label 1 (positive)</th>\n",
       "      <th>real label 2 (negative)</th>\n",
       "    </tr>\n",
       "  </thead>\n",
       "  <tbody>\n",
       "    <tr>\n",
       "      <th>predicted label 1 (positive)</th>\n",
       "      <td>1.0</td>\n",
       "      <td>0.109535</td>\n",
       "    </tr>\n",
       "    <tr>\n",
       "      <th>predicted label 2 (negative)</th>\n",
       "      <td>0.0</td>\n",
       "      <td>0.890465</td>\n",
       "    </tr>\n",
       "  </tbody>\n",
       "</table>\n",
       "</div>"
      ],
      "text/plain": [
       "                              real label 1 (positive)  real label 2 (negative)\n",
       "predicted label 1 (positive)                      1.0                 0.109535\n",
       "predicted label 2 (negative)                      0.0                 0.890465"
      ]
     },
     "metadata": {},
     "output_type": "display_data"
    },
    {
     "name": "stdout",
     "output_type": "stream",
     "text": [
      "---------------------------------------------------------------------------------\n",
      "---------------------------------------------------------------------------------\n",
      "confusion matrix for GaussianNB [ 2->IS NOT SKIN (false), 1->IS SKIN (true) ]\n"
     ]
    },
    {
     "data": {
      "text/html": [
       "<div>\n",
       "<style scoped>\n",
       "    .dataframe tbody tr th:only-of-type {\n",
       "        vertical-align: middle;\n",
       "    }\n",
       "\n",
       "    .dataframe tbody tr th {\n",
       "        vertical-align: top;\n",
       "    }\n",
       "\n",
       "    .dataframe thead th {\n",
       "        text-align: right;\n",
       "    }\n",
       "</style>\n",
       "<table border=\"1\" class=\"dataframe\">\n",
       "  <thead>\n",
       "    <tr style=\"text-align: right;\">\n",
       "      <th></th>\n",
       "      <th>real label 1 (positive)</th>\n",
       "      <th>real label 2 (negative)</th>\n",
       "    </tr>\n",
       "  </thead>\n",
       "  <tbody>\n",
       "    <tr>\n",
       "      <th>predicted label 1 (positive)</th>\n",
       "      <td>0.99596</td>\n",
       "      <td>0.015131</td>\n",
       "    </tr>\n",
       "    <tr>\n",
       "      <th>predicted label 2 (negative)</th>\n",
       "      <td>0.00404</td>\n",
       "      <td>0.984869</td>\n",
       "    </tr>\n",
       "  </tbody>\n",
       "</table>\n",
       "</div>"
      ],
      "text/plain": [
       "                              real label 1 (positive)  real label 2 (negative)\n",
       "predicted label 1 (positive)                  0.99596                 0.015131\n",
       "predicted label 2 (negative)                  0.00404                 0.984869"
      ]
     },
     "metadata": {},
     "output_type": "display_data"
    },
    {
     "name": "stdout",
     "output_type": "stream",
     "text": [
      "\n",
      "----------------------------------------------------------------------------------\n"
     ]
    },
    {
     "data": {
      "image/png": "[encoded data removed]",
      "text/plain": [
       "<Figure size 432x288 with 1 Axes>"
      ]
     },
     "metadata": {
      "needs_background": "light"
     },
     "output_type": "display_data"
    }
   ],
   "source": [
    "data = np.loadtxt('data/Skin_NonSkin.txt')\n",
    "\n",
    "#Set aside 25% of data for testing!\n",
    "seed = 77678\n",
    "train_data, test_data = train_test_split(data, train_size=0.75, test_size=0.25, random_state = seed)\n",
    "\n",
    "#Find train and test datasets.\n",
    "train_X = np.asarray([rgb_to_hsv(*row) for row in train_data[:,:3]]) #inneficient but it does not matter\n",
    "train_Y = train_data[:,3].astype('int32')\n",
    "\n",
    "test_X = np.asarray([rgb_to_hsv(*row) for row in test_data[:,:3]]) #inneficient but it does not matter\n",
    "test_Y = test_data[:,3].astype('int32')\n",
    "\n",
    "test_Y = np.where(test_Y == 2, 0, test_Y).astype('int32')\n",
    "train_Y = np.where(train_Y == 2, 0, train_Y).astype('int32')\n",
    "\n",
    "cls=[[QuadraticDiscriminantAnalysis(),\"QDA\"], [LinearDiscriminantAnalysis(),\"LDA\"], [GaussianNB(),\"GaussianNB\"]]\n",
    "\n",
    "dataframe, matrix, fprss, tprss, thdss = analize_hsv(cls, train_X, train_Y, test_X, test_Y)\n",
    "display(dataframe)\n",
    "\n",
    "\n",
    "for i, cm in enumerate(matrix):    \n",
    "    print(\"---------------------------------------------------------------------------------\")\n",
    "    print(\"---------------------------------------------------------------------------------\")\n",
    "    print(\"confusion matrix for\", cls[i][1], \"[ 2->IS NOT SKIN (false), 1->IS SKIN (true) ]\")\n",
    "    display(cm)\n",
    "\n",
    "print(\"\\n----------------------------------------------------------------------------------\")\n",
    "for i in range(len(fprss)):\n",
    "    plt.plot(fprss[i], tprss[i], label=cls[i][1]+ \" with auc:\" + np.round(dataframe['auc'][i], decimals=3).astype('str'))\n",
    "plt.plot([0,1],[0,1],'--',alpha=0.5, label='random guess', color='grey')  \n",
    "plt.legend()\n",
    "plt.ylabel('true_positive_rate')\n",
    "plt.xlabel('false_positive_rate')\n",
    "plt.show()"
   ]
  }
 ],
 "metadata": {
  "jupytext": {
   "text_representation": {
    "extension": ".Rmd",
    "format_name": "rmarkdown",
    "format_version": "1.2",
    "jupytext_version": "1.4.1"
   }
  },
  "kernelspec": {
   "display_name": "Python 3",
   "language": "python",
   "name": "python3"
  },
  "language_info": {
   "codemirror_mode": {
    "name": "ipython",
    "version": 3
   },
   "file_extension": ".py",
   "mimetype": "text/x-python",
   "name": "python",
   "nbconvert_exporter": "python",
   "pygments_lexer": "ipython3",
   "version": "3.7.6"
  }
 },
 "nbformat": 4,
 "nbformat_minor": 4
}
