{
 "cells": [
  {
   "cell_type": "markdown",
   "metadata": {},
   "source": [
    "# Skin segmentation "
   ]
  },
  {
   "cell_type": "markdown",
   "metadata": {},
   "source": [
    "In this assignement you will train classifier to assign colors to skin or no skin classes. The data is taken from [Skin Segmentation Data Set](http://archive.ics.uci.edu/ml/datasets/Skin+Segmentation#) in the UCI Machine Learning repository."
   ]
  },
  {
   "cell_type": "markdown",
   "metadata": {},
   "source": [
    "The  data is in a plain text format and contains four columns. First three contain RGB color data  represented as integers in the range 0-255, and the last column is an integer label  with 1 representing skin and 2 representing no skin. This file we can load directly into a numpy array:"
   ]
  },
  {
   "cell_type": "code",
   "execution_count": 1,
   "metadata": {},
   "outputs": [],
   "source": [
    "import numpy as np"
   ]
  },
  {
   "cell_type": "code",
   "execution_count": 2,
   "metadata": {},
   "outputs": [],
   "source": [
    "data = np.loadtxt('data/Skin_NonSkin.txt')"
   ]
  },
  {
   "cell_type": "code",
   "execution_count": 58,
   "metadata": {},
   "outputs": [
    {
     "name": "stdout",
     "output_type": "stream",
     "text": [
      "[1 1 1 ... 2 2 2]\n",
      "[[ 74.  85. 123.]\n",
      " [ 73.  84. 122.]\n",
      " [ 72.  83. 121.]\n",
      " ...\n",
      " [163. 162. 112.]\n",
      " [163. 162. 112.]\n",
      " [255. 255. 255.]]\n"
     ]
    }
   ],
   "source": [
    "rgb  = data[:,:3]\n",
    "lbl = data[:,3].astype('int32') # some function expect labels to be integers\n",
    "print(lbl)\n",
    "print(data[:,:3])"
   ]
  },
  {
   "cell_type": "markdown",
   "metadata": {},
   "source": [
    "We see that the classes are not balanced:"
   ]
  },
  {
   "cell_type": "code",
   "execution_count": 4,
   "metadata": {},
   "outputs": [
    {
     "data": {
      "text/plain": [
       "array([     0,  50859, 194198])"
      ]
     },
     "execution_count": 4,
     "metadata": {},
     "output_type": "execute_result"
    }
   ],
   "source": [
    "np.bincount(lbl)"
   ]
  },
  {
   "cell_type": "markdown",
   "metadata": {},
   "source": [
    "## Problem 1 "
   ]
  },
  {
   "cell_type": "markdown",
   "metadata": {},
   "source": [
    "Compare the performance of the QuadraticDiscriminantAnalysis, LinearDiscriminativeAnalysis and NaiveBayes classifiers on this set. Use the `sklearn` library when needed. Compare the confusion matrices (tpr, fpr, tnr, fnr), precision and f1_ score and auc_score, as well ROC curves. Prepare a summary table with all the numerical scores one row per classifier on one column per metric (use pandas.DataFame). Plot all  ROC curves on the same plot and label them accordingly. Assume that skin is positive and non-skin negative. "
   ]
  },
  {
   "cell_type": "markdown",
   "metadata": {},
   "source": [
    "__Hint__ as you will be repeating this it's probably a good idea  to write a python function that does all the analysis. "
   ]
  },
  {
   "cell_type": "code",
   "execution_count": 52,
   "metadata": {},
   "outputs": [
    {
     "name": "stdout",
     "output_type": "stream",
     "text": [
      "DONE\n"
     ]
    }
   ],
   "source": [
    "import pandas as pd\n",
    "import numpy as np\n",
    "import matplotlib.pyplot as plt\n",
    "from sklearn.discriminant_analysis import QuadraticDiscriminantAnalysis\n",
    "from sklearn.naive_bayes import GaussianNB\n",
    "from sklearn.discriminant_analysis import LinearDiscriminantAnalysis\n",
    "from sklearn.model_selection import train_test_split\n",
    "from sklearn.metrics import roc_curve, roc_auc_score, confusion_matrix, plot_confusion_matrix\n",
    "from sklearn.metrics import f1_score, precision_score, recall_score\n",
    "from IPython.display import display\n",
    "\n",
    "def analize(cls, train_X, train_Y, test_X, test_Y):\n",
    "\n",
    "    frames = [] \n",
    "    matrix = []\n",
    "    fprss = []\n",
    "    tprss = []\n",
    "    thdss = []\n",
    "   \n",
    "    for c, name in cls:\n",
    "        c.fit(train_X,train_Y)\n",
    "\n",
    "        test_predicted = c.predict(test_X)\n",
    "        test_predicted_proba = c.predict_proba(test_X)\n",
    "\n",
    "        precision = precision_score(test_Y, test_predicted, pos_label=1, average='micro')\n",
    "        f1 = f1_score(test_Y, test_predicted, pos_label=1, average='micro')\n",
    "\n",
    "        fprs, tprs, thds = roc_curve(test_Y, test_predicted_proba[:,1], pos_label=1)\n",
    "        auc = roc_auc_score(test_Y, test_predicted_proba[:,1])\n",
    "\n",
    "        tnr, fpr, fnr, tpr = confusion_matrix(test_Y==1, test_predicted_proba[:,1]>0.5, normalize='true').ravel()\n",
    "        \n",
    "        disp = pd.DataFrame({2:  [fnr, tpr], 1: [tnr, fpr]}, index=[2,1])\n",
    "        \n",
    "        matrix.append(disp)\n",
    "        dataframe=pd.DataFrame({'tnr':[tnr],\n",
    "                              'fnr':[fnr],\n",
    "                              'fpr':[fpr],\n",
    "                              'tpr':[tpr],\n",
    "                              'precision' : [precision],\n",
    "                              'f1' :[f1],\n",
    "                              'auc' :[auc]\n",
    "                               }, index=[name])\n",
    "        \n",
    "        fprss.append(fprs)\n",
    "        tprss.append(tprs)\n",
    "        thdss.append(thds)\n",
    "\n",
    "        frames.append(dataframe)\n",
    "    \n",
    "    result = pd.concat(frames)\n",
    "    \n",
    "    return  result, matrix, fprss, tprss, thdss\n",
    "\n",
    "\n",
    "print(\"DONE\")"
   ]
  },
  {
   "cell_type": "code",
   "execution_count": 62,
   "metadata": {},
   "outputs": [
    {
     "data": {
      "text/html": [
       "<div>\n",
       "<style scoped>\n",
       "    .dataframe tbody tr th:only-of-type {\n",
       "        vertical-align: middle;\n",
       "    }\n",
       "\n",
       "    .dataframe tbody tr th {\n",
       "        vertical-align: top;\n",
       "    }\n",
       "\n",
       "    .dataframe thead th {\n",
       "        text-align: right;\n",
       "    }\n",
       "</style>\n",
       "<table border=\"1\" class=\"dataframe\">\n",
       "  <thead>\n",
       "    <tr style=\"text-align: right;\">\n",
       "      <th></th>\n",
       "      <th>tnr</th>\n",
       "      <th>fnr</th>\n",
       "      <th>fpr</th>\n",
       "      <th>tpr</th>\n",
       "      <th>precision</th>\n",
       "      <th>f1</th>\n",
       "      <th>auc</th>\n",
       "    </tr>\n",
       "  </thead>\n",
       "  <tbody>\n",
       "    <tr>\n",
       "      <th>QDA</th>\n",
       "      <td>0.001470</td>\n",
       "      <td>0.924934</td>\n",
       "      <td>0.998530</td>\n",
       "      <td>0.075066</td>\n",
       "      <td>0.983167</td>\n",
       "      <td>0.983167</td>\n",
       "      <td>0.999639</td>\n",
       "    </tr>\n",
       "    <tr>\n",
       "      <th>LDA</th>\n",
       "      <td>0.061705</td>\n",
       "      <td>0.906852</td>\n",
       "      <td>0.938295</td>\n",
       "      <td>0.093148</td>\n",
       "      <td>0.931731</td>\n",
       "      <td>0.931731</td>\n",
       "      <td>0.946621</td>\n",
       "    </tr>\n",
       "    <tr>\n",
       "      <th>GaussianNB</th>\n",
       "      <td>0.027642</td>\n",
       "      <td>0.736389</td>\n",
       "      <td>0.972358</td>\n",
       "      <td>0.263611</td>\n",
       "      <td>0.923100</td>\n",
       "      <td>0.923100</td>\n",
       "      <td>0.940539</td>\n",
       "    </tr>\n",
       "  </tbody>\n",
       "</table>\n",
       "</div>"
      ],
      "text/plain": [
       "                 tnr       fnr       fpr       tpr  precision        f1  \\\n",
       "QDA         0.001470  0.924934  0.998530  0.075066   0.983167  0.983167   \n",
       "LDA         0.061705  0.906852  0.938295  0.093148   0.931731  0.931731   \n",
       "GaussianNB  0.027642  0.736389  0.972358  0.263611   0.923100  0.923100   \n",
       "\n",
       "                 auc  \n",
       "QDA         0.999639  \n",
       "LDA         0.946621  \n",
       "GaussianNB  0.940539  "
      ]
     },
     "metadata": {},
     "output_type": "display_data"
    },
    {
     "name": "stdout",
     "output_type": "stream",
     "text": [
      "---------------------------------------------------------------------------------\n",
      "---------------------------------------------------------------------------------\n",
      "confusion matrix for QDA [ 2->IS NOT SKIN (false), 1->IS SKIN (true) ]\n"
     ]
    },
    {
     "data": {
      "text/html": [
       "<div>\n",
       "<style scoped>\n",
       "    .dataframe tbody tr th:only-of-type {\n",
       "        vertical-align: middle;\n",
       "    }\n",
       "\n",
       "    .dataframe tbody tr th {\n",
       "        vertical-align: top;\n",
       "    }\n",
       "\n",
       "    .dataframe thead th {\n",
       "        text-align: right;\n",
       "    }\n",
       "</style>\n",
       "<table border=\"1\" class=\"dataframe\">\n",
       "  <thead>\n",
       "    <tr style=\"text-align: right;\">\n",
       "      <th></th>\n",
       "      <th>2</th>\n",
       "      <th>1</th>\n",
       "    </tr>\n",
       "  </thead>\n",
       "  <tbody>\n",
       "    <tr>\n",
       "      <th>2</th>\n",
       "      <td>0.924934</td>\n",
       "      <td>0.00147</td>\n",
       "    </tr>\n",
       "    <tr>\n",
       "      <th>1</th>\n",
       "      <td>0.075066</td>\n",
       "      <td>0.99853</td>\n",
       "    </tr>\n",
       "  </tbody>\n",
       "</table>\n",
       "</div>"
      ],
      "text/plain": [
       "          2        1\n",
       "2  0.924934  0.00147\n",
       "1  0.075066  0.99853"
      ]
     },
     "metadata": {},
     "output_type": "display_data"
    },
    {
     "name": "stdout",
     "output_type": "stream",
     "text": [
      "---------------------------------------------------------------------------------\n",
      "---------------------------------------------------------------------------------\n",
      "confusion matrix for LDA [ 2->IS NOT SKIN (false), 1->IS SKIN (true) ]\n"
     ]
    },
    {
     "data": {
      "text/html": [
       "<div>\n",
       "<style scoped>\n",
       "    .dataframe tbody tr th:only-of-type {\n",
       "        vertical-align: middle;\n",
       "    }\n",
       "\n",
       "    .dataframe tbody tr th {\n",
       "        vertical-align: top;\n",
       "    }\n",
       "\n",
       "    .dataframe thead th {\n",
       "        text-align: right;\n",
       "    }\n",
       "</style>\n",
       "<table border=\"1\" class=\"dataframe\">\n",
       "  <thead>\n",
       "    <tr style=\"text-align: right;\">\n",
       "      <th></th>\n",
       "      <th>2</th>\n",
       "      <th>1</th>\n",
       "    </tr>\n",
       "  </thead>\n",
       "  <tbody>\n",
       "    <tr>\n",
       "      <th>2</th>\n",
       "      <td>0.906852</td>\n",
       "      <td>0.061705</td>\n",
       "    </tr>\n",
       "    <tr>\n",
       "      <th>1</th>\n",
       "      <td>0.093148</td>\n",
       "      <td>0.938295</td>\n",
       "    </tr>\n",
       "  </tbody>\n",
       "</table>\n",
       "</div>"
      ],
      "text/plain": [
       "          2         1\n",
       "2  0.906852  0.061705\n",
       "1  0.093148  0.938295"
      ]
     },
     "metadata": {},
     "output_type": "display_data"
    },
    {
     "name": "stdout",
     "output_type": "stream",
     "text": [
      "---------------------------------------------------------------------------------\n",
      "---------------------------------------------------------------------------------\n",
      "confusion matrix for GaussianNB [ 2->IS NOT SKIN (false), 1->IS SKIN (true) ]\n"
     ]
    },
    {
     "data": {
      "text/html": [
       "<div>\n",
       "<style scoped>\n",
       "    .dataframe tbody tr th:only-of-type {\n",
       "        vertical-align: middle;\n",
       "    }\n",
       "\n",
       "    .dataframe tbody tr th {\n",
       "        vertical-align: top;\n",
       "    }\n",
       "\n",
       "    .dataframe thead th {\n",
       "        text-align: right;\n",
       "    }\n",
       "</style>\n",
       "<table border=\"1\" class=\"dataframe\">\n",
       "  <thead>\n",
       "    <tr style=\"text-align: right;\">\n",
       "      <th></th>\n",
       "      <th>2</th>\n",
       "      <th>1</th>\n",
       "    </tr>\n",
       "  </thead>\n",
       "  <tbody>\n",
       "    <tr>\n",
       "      <th>2</th>\n",
       "      <td>0.736389</td>\n",
       "      <td>0.027642</td>\n",
       "    </tr>\n",
       "    <tr>\n",
       "      <th>1</th>\n",
       "      <td>0.263611</td>\n",
       "      <td>0.972358</td>\n",
       "    </tr>\n",
       "  </tbody>\n",
       "</table>\n",
       "</div>"
      ],
      "text/plain": [
       "          2         1\n",
       "2  0.736389  0.027642\n",
       "1  0.263611  0.972358"
      ]
     },
     "metadata": {},
     "output_type": "display_data"
    },
    {
     "name": "stdout",
     "output_type": "stream",
     "text": [
      "\n",
      "----------------------------------------------------------------------------------\n"
     ]
    },
    {
     "data": {
      "image/png": "[encoded data removed]",
      "text/plain": [
       "<Figure size 432x288 with 1 Axes>"
      ]
     },
     "metadata": {
      "needs_background": "light"
     },
     "output_type": "display_data"
    }
   ],
   "source": [
    "data = np.loadtxt('data/Skin_NonSkin.txt')\n",
    "\n",
    "#Set aside 20% of data for testing!\n",
    "seed = 57576\n",
    "train_data, test_data = train_test_split(data, train_size=0.8, test_size=0.2, random_state = seed)\n",
    "\n",
    "#Find train and test datasets.\n",
    "train_X = train_data[:,:3]\n",
    "train_Y = train_data[:,3].astype('int32')\n",
    "\n",
    "test_X = test_data[:,:3]\n",
    "test_Y = test_data[:,3].astype('int32')\n",
    "\n",
    "cls=[[QuadraticDiscriminantAnalysis(),\"QDA\"], [LinearDiscriminantAnalysis(),\"LDA\"], [GaussianNB(),\"GaussianNB\"]]\n",
    "\n",
    "\n",
    "dataframe, matrix, fprss, tprss, thdss = analize(cls, train_X, train_Y, test_X, test_Y)\n",
    "display(dataframe)\n",
    "\n",
    "\n",
    "for i, cm in enumerate(matrix):    \n",
    "    print(\"---------------------------------------------------------------------------------\")\n",
    "    print(\"---------------------------------------------------------------------------------\")\n",
    "    print(\"confusion matrix for\", cls[i][1], \"[ 2->IS NOT SKIN (false), 1->IS SKIN (true) ]\")\n",
    "    display(cm)\n",
    "\n",
    "print(\"\\n----------------------------------------------------------------------------------\")\n",
    "for i in range(len(fprss)):\n",
    "    plt.plot(fprss[i], tprss[i], label=cls[i][1])\n",
    "plt.legend()    \n",
    "plt.ylabel('true_positive_rate')\n",
    "plt.xlabel('false_positive_rate')\n",
    "plt.show()"
   ]
  },
  {
   "cell_type": "markdown",
   "metadata": {},
   "source": [
    "## Problem 2"
   ]
  },
  {
   "cell_type": "markdown",
   "metadata": {},
   "source": [
    "Repeat same analysis but with RGB  data converted to Hue  Saturation Value (HSV) format. You can use the `colorsys` module for conversion "
   ]
  },
  {
   "cell_type": "code",
   "execution_count": 64,
   "metadata": {},
   "outputs": [
    {
     "name": "stdout",
     "output_type": "stream",
     "text": [
      "DONE\n"
     ]
    }
   ],
   "source": [
    "from colorsys import rgb_to_hsv\n",
    "\n",
    "def analize_hsv(cls, train_X, train_Y, test_X, test_Y):\n",
    "\n",
    "    frames = [] \n",
    "    matrix = []\n",
    "    fprss = []\n",
    "    tprss = []\n",
    "    thdss = []\n",
    "   \n",
    "    for c, name in cls:\n",
    "        c.fit(train_X,train_Y)\n",
    "\n",
    "        test_predicted = c.predict(test_X)\n",
    "        test_predicted_proba = c.predict_proba(test_X)\n",
    "\n",
    "        precision = precision_score(test_Y, test_predicted, pos_label=1, average='micro')\n",
    "        f1 = f1_score(test_Y, test_predicted, pos_label=1, average='micro')\n",
    "\n",
    "        fprs, tprs, thds = roc_curve(test_Y, test_predicted_proba[:,1], pos_label=1)\n",
    "        auc = roc_auc_score(test_Y, test_predicted_proba[:,1])\n",
    "\n",
    "        tnr, fpr, fnr, tpr = confusion_matrix(test_Y==1, test_predicted_proba[:,1]>0.5, normalize='true').ravel()\n",
    "        \n",
    "        disp = pd.DataFrame({2:  [fnr, tpr], 1: [tnr, fpr]}, index=[2,1])\n",
    "        \n",
    "        matrix.append(disp)\n",
    "        dataframe=pd.DataFrame({'tnr':[tnr],\n",
    "                              'fnr':[fnr],\n",
    "                              'fpr':[fpr],\n",
    "                              'tpr':[tpr],\n",
    "                              'precision' : [precision],\n",
    "                              'f1' :[f1],\n",
    "                              'auc' :[auc]\n",
    "                               }, index=[name])\n",
    "        \n",
    "        fprss.append(fprs)\n",
    "        tprss.append(tprs)\n",
    "        thdss.append(thds)\n",
    "\n",
    "        frames.append(dataframe)\n",
    "    \n",
    "    result = pd.concat(frames)\n",
    "    \n",
    "    return  result, matrix, fprss, tprss, thdss\n",
    "\n",
    "\n",
    "print(\"DONE\")"
   ]
  },
  {
   "cell_type": "code",
   "execution_count": 65,
   "metadata": {},
   "outputs": [
    {
     "data": {
      "text/html": [
       "<div>\n",
       "<style scoped>\n",
       "    .dataframe tbody tr th:only-of-type {\n",
       "        vertical-align: middle;\n",
       "    }\n",
       "\n",
       "    .dataframe tbody tr th {\n",
       "        vertical-align: top;\n",
       "    }\n",
       "\n",
       "    .dataframe thead th {\n",
       "        text-align: right;\n",
       "    }\n",
       "</style>\n",
       "<table border=\"1\" class=\"dataframe\">\n",
       "  <thead>\n",
       "    <tr style=\"text-align: right;\">\n",
       "      <th></th>\n",
       "      <th>tnr</th>\n",
       "      <th>fnr</th>\n",
       "      <th>fpr</th>\n",
       "      <th>tpr</th>\n",
       "      <th>precision</th>\n",
       "      <th>f1</th>\n",
       "      <th>auc</th>\n",
       "    </tr>\n",
       "  </thead>\n",
       "  <tbody>\n",
       "    <tr>\n",
       "      <th>QDA</th>\n",
       "      <td>0.004745</td>\n",
       "      <td>0.989542</td>\n",
       "      <td>0.995255</td>\n",
       "      <td>0.010458</td>\n",
       "      <td>0.994063</td>\n",
       "      <td>0.994063</td>\n",
       "      <td>0.999543</td>\n",
       "    </tr>\n",
       "    <tr>\n",
       "      <th>LDA</th>\n",
       "      <td>0.107424</td>\n",
       "      <td>1.000000</td>\n",
       "      <td>0.892576</td>\n",
       "      <td>0.000000</td>\n",
       "      <td>0.915000</td>\n",
       "      <td>0.915000</td>\n",
       "      <td>0.928780</td>\n",
       "    </tr>\n",
       "    <tr>\n",
       "      <th>GaussianNB</th>\n",
       "      <td>0.015085</td>\n",
       "      <td>0.995797</td>\n",
       "      <td>0.984915</td>\n",
       "      <td>0.004203</td>\n",
       "      <td>0.987187</td>\n",
       "      <td>0.987187</td>\n",
       "      <td>0.997170</td>\n",
       "    </tr>\n",
       "  </tbody>\n",
       "</table>\n",
       "</div>"
      ],
      "text/plain": [
       "                 tnr       fnr       fpr       tpr  precision        f1  \\\n",
       "QDA         0.004745  0.989542  0.995255  0.010458   0.994063  0.994063   \n",
       "LDA         0.107424  1.000000  0.892576  0.000000   0.915000  0.915000   \n",
       "GaussianNB  0.015085  0.995797  0.984915  0.004203   0.987187  0.987187   \n",
       "\n",
       "                 auc  \n",
       "QDA         0.999543  \n",
       "LDA         0.928780  \n",
       "GaussianNB  0.997170  "
      ]
     },
     "metadata": {},
     "output_type": "display_data"
    },
    {
     "name": "stdout",
     "output_type": "stream",
     "text": [
      "---------------------------------------------------------------------------------\n",
      "---------------------------------------------------------------------------------\n",
      "confusion matrix for QDA [ 2->IS NOT SKIN (false), 1->IS SKIN (true) ]\n"
     ]
    },
    {
     "data": {
      "text/html": [
       "<div>\n",
       "<style scoped>\n",
       "    .dataframe tbody tr th:only-of-type {\n",
       "        vertical-align: middle;\n",
       "    }\n",
       "\n",
       "    .dataframe tbody tr th {\n",
       "        vertical-align: top;\n",
       "    }\n",
       "\n",
       "    .dataframe thead th {\n",
       "        text-align: right;\n",
       "    }\n",
       "</style>\n",
       "<table border=\"1\" class=\"dataframe\">\n",
       "  <thead>\n",
       "    <tr style=\"text-align: right;\">\n",
       "      <th></th>\n",
       "      <th>2</th>\n",
       "      <th>1</th>\n",
       "    </tr>\n",
       "  </thead>\n",
       "  <tbody>\n",
       "    <tr>\n",
       "      <th>2</th>\n",
       "      <td>0.989542</td>\n",
       "      <td>0.004745</td>\n",
       "    </tr>\n",
       "    <tr>\n",
       "      <th>1</th>\n",
       "      <td>0.010458</td>\n",
       "      <td>0.995255</td>\n",
       "    </tr>\n",
       "  </tbody>\n",
       "</table>\n",
       "</div>"
      ],
      "text/plain": [
       "          2         1\n",
       "2  0.989542  0.004745\n",
       "1  0.010458  0.995255"
      ]
     },
     "metadata": {},
     "output_type": "display_data"
    },
    {
     "name": "stdout",
     "output_type": "stream",
     "text": [
      "---------------------------------------------------------------------------------\n",
      "---------------------------------------------------------------------------------\n",
      "confusion matrix for LDA [ 2->IS NOT SKIN (false), 1->IS SKIN (true) ]\n"
     ]
    },
    {
     "data": {
      "text/html": [
       "<div>\n",
       "<style scoped>\n",
       "    .dataframe tbody tr th:only-of-type {\n",
       "        vertical-align: middle;\n",
       "    }\n",
       "\n",
       "    .dataframe tbody tr th {\n",
       "        vertical-align: top;\n",
       "    }\n",
       "\n",
       "    .dataframe thead th {\n",
       "        text-align: right;\n",
       "    }\n",
       "</style>\n",
       "<table border=\"1\" class=\"dataframe\">\n",
       "  <thead>\n",
       "    <tr style=\"text-align: right;\">\n",
       "      <th></th>\n",
       "      <th>2</th>\n",
       "      <th>1</th>\n",
       "    </tr>\n",
       "  </thead>\n",
       "  <tbody>\n",
       "    <tr>\n",
       "      <th>2</th>\n",
       "      <td>1.0</td>\n",
       "      <td>0.107424</td>\n",
       "    </tr>\n",
       "    <tr>\n",
       "      <th>1</th>\n",
       "      <td>0.0</td>\n",
       "      <td>0.892576</td>\n",
       "    </tr>\n",
       "  </tbody>\n",
       "</table>\n",
       "</div>"
      ],
      "text/plain": [
       "     2         1\n",
       "2  1.0  0.107424\n",
       "1  0.0  0.892576"
      ]
     },
     "metadata": {},
     "output_type": "display_data"
    },
    {
     "name": "stdout",
     "output_type": "stream",
     "text": [
      "---------------------------------------------------------------------------------\n",
      "---------------------------------------------------------------------------------\n",
      "confusion matrix for GaussianNB [ 2->IS NOT SKIN (false), 1->IS SKIN (true) ]\n"
     ]
    },
    {
     "data": {
      "text/html": [
       "<div>\n",
       "<style scoped>\n",
       "    .dataframe tbody tr th:only-of-type {\n",
       "        vertical-align: middle;\n",
       "    }\n",
       "\n",
       "    .dataframe tbody tr th {\n",
       "        vertical-align: top;\n",
       "    }\n",
       "\n",
       "    .dataframe thead th {\n",
       "        text-align: right;\n",
       "    }\n",
       "</style>\n",
       "<table border=\"1\" class=\"dataframe\">\n",
       "  <thead>\n",
       "    <tr style=\"text-align: right;\">\n",
       "      <th></th>\n",
       "      <th>2</th>\n",
       "      <th>1</th>\n",
       "    </tr>\n",
       "  </thead>\n",
       "  <tbody>\n",
       "    <tr>\n",
       "      <th>2</th>\n",
       "      <td>0.995797</td>\n",
       "      <td>0.015085</td>\n",
       "    </tr>\n",
       "    <tr>\n",
       "      <th>1</th>\n",
       "      <td>0.004203</td>\n",
       "      <td>0.984915</td>\n",
       "    </tr>\n",
       "  </tbody>\n",
       "</table>\n",
       "</div>"
      ],
      "text/plain": [
       "          2         1\n",
       "2  0.995797  0.015085\n",
       "1  0.004203  0.984915"
      ]
     },
     "metadata": {},
     "output_type": "display_data"
    },
    {
     "name": "stdout",
     "output_type": "stream",
     "text": [
      "\n",
      "----------------------------------------------------------------------------------\n"
     ]
    },
    {
     "data": {
      "image/png": "[encoded data removed]",
      "text/plain": [
       "<Figure size 432x288 with 1 Axes>"
      ]
     },
     "metadata": {
      "needs_background": "light"
     },
     "output_type": "display_data"
    }
   ],
   "source": [
    "data = np.loadtxt('data/Skin_NonSkin.txt')\n",
    "\n",
    "#Set aside 20% of data for testing!\n",
    "seed = 57576\n",
    "\n",
    "train_data, test_data = train_test_split(data, train_size=0.8, test_size=0.2, random_state = seed)\n",
    "\n",
    "#Find train and test datasets.\n",
    "train_X = np.asarray([rgb_to_hsv(*row) for row in train_data[:,:3]]) #inneficient but it does not matter\n",
    "train_Y = train_data[:,3].astype('int32')\n",
    "\n",
    "test_X = np.asarray([rgb_to_hsv(*row) for row in test_data[:,:3]]) #inneficient but it does not matter\n",
    "test_Y = test_data[:,3].astype('int32')\n",
    "\n",
    "cls=[[QuadraticDiscriminantAnalysis(),\"QDA\"], [LinearDiscriminantAnalysis(),\"LDA\"], [GaussianNB(),\"GaussianNB\"]]\n",
    "\n",
    "\n",
    "dataframe, matrix, fprss, tprss, thdss = analize_hsv(cls, train_X, train_Y, test_X, test_Y)\n",
    "display(dataframe)\n",
    "\n",
    "\n",
    "for i, cm in enumerate(matrix):    \n",
    "    print(\"---------------------------------------------------------------------------------\")\n",
    "    print(\"---------------------------------------------------------------------------------\")\n",
    "    print(\"confusion matrix for\", cls[i][1], \"[ 2->IS NOT SKIN (false), 1->IS SKIN (true) ]\")\n",
    "    display(cm)\n",
    "\n",
    "print(\"\\n----------------------------------------------------------------------------------\")\n",
    "for i in range(len(fprss)):\n",
    "    plt.plot(fprss[i], tprss[i], label=cls[i][1])\n",
    "plt.legend()    \n",
    "plt.ylabel('true_positive_rate')\n",
    "plt.xlabel('false_positive_rate')\n",
    "plt.show()"
   ]
  },
  {
   "cell_type": "code",
   "execution_count": null,
   "metadata": {},
   "outputs": [],
   "source": []
  }
 ],
 "metadata": {
  "jupytext": {
   "text_representation": {
    "extension": ".Rmd",
    "format_name": "rmarkdown",
    "format_version": "1.2",
    "jupytext_version": "1.4.1"
   }
  },
  "kernelspec": {
   "display_name": "Python 3",
   "language": "python",
   "name": "python3"
  },
  "language_info": {
   "codemirror_mode": {
    "name": "ipython",
    "version": 3
   },
   "file_extension": ".py",
   "mimetype": "text/x-python",
   "name": "python",
   "nbconvert_exporter": "python",
   "pygments_lexer": "ipython3",
   "version": "3.7.6"
  }
 },
 "nbformat": 4,
 "nbformat_minor": 4
}
